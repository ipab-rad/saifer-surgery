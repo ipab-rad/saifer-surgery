{
 "cells": [
  {
   "cell_type": "code",
   "execution_count": 1,
   "metadata": {},
   "outputs": [],
   "source": [
    "import rospkg\n",
    "import sys\n",
    "import rospy\n",
    "import cv2\n",
    "from std_msgs.msg import String\n",
    "from sensor_msgs.msg import Image\n",
    "from cv_bridge import CvBridge, CvBridgeError\n",
    "from geometry_msgs.msg import WrenchStamped\n",
    "import moveit_commander\n",
    "import numpy as np\n",
    "import copy\n",
    "from robotiq_ft_sensor.srv import sensor_accessor"
   ]
  },
  {
   "cell_type": "code",
   "execution_count": 2,
   "metadata": {},
   "outputs": [],
   "source": [
    "# Init node\n",
    "rospy.init_node('demo', anonymous=True)\n",
    "robot = moveit_commander.RobotCommander()"
   ]
  },
  {
   "cell_type": "code",
   "execution_count": 3,
   "metadata": {},
   "outputs": [],
   "source": [
    "# Select red arm\n",
    "group_red = moveit_commander.MoveGroupCommander(\"red_arm\")\n",
    "#group.get_current_pose().pose"
   ]
  },
  {
   "cell_type": "code",
   "execution_count": 32,
   "metadata": {},
   "outputs": [],
   "source": [
    "# Saved configuration\n",
    "import geometry_msgs.msg\n",
    "pose_goal_red = geometry_msgs.msg.Pose()\n",
    "pose_goal_red.position.x = 0.34985756254\n",
    "pose_goal_red.position.y = 0.12859389761\n",
    "pose_goal_red.position.z = 0.842296859005\n",
    "pose_goal_red.orientation.x = 0.024565759952\n",
    "pose_goal_red.orientation.y = 0.00805537960118\n",
    "pose_goal_red.orientation.z = -0.404463885878\n",
    "pose_goal_red.orientation.w = 0.914188492226\n",
    "#pose_goal_red"
   ]
  },
  {
   "cell_type": "code",
   "execution_count": 33,
   "metadata": {},
   "outputs": [],
   "source": [
    "# Plan - check on rviz\n",
    "group_red.set_pose_target(pose_goal_red)\n",
    "group_red.plan()\n",
    "rospy.sleep(1)"
   ]
  },
  {
   "cell_type": "code",
   "execution_count": 31,
   "metadata": {},
   "outputs": [],
   "source": [
    "# Run\n",
    "group_red.go(pose_goal_red, wait=True)\n",
    "group_red.stop()"
   ]
  },
  {
   "cell_type": "code",
   "execution_count": 10,
   "metadata": {},
   "outputs": [],
   "source": [
    "# Select blue arm\n",
    "group_blue = moveit_commander.MoveGroupCommander(\"blue_arm\")\n",
    "#group_blue.get_current_pose()"
   ]
  },
  {
   "cell_type": "code",
   "execution_count": 11,
   "metadata": {},
   "outputs": [],
   "source": [
    "# Saved configuration - new, probably good for the 2D\n",
    "import geometry_msgs.msg\n",
    "pose_goal_blue = geometry_msgs.msg.Pose()\n",
    "pose_goal_blue.position.x = -0.496439751425 #         + go back   / - go forward\n",
    "pose_goal_blue.position.y = 0.239087805985 #         + go right  / - go left\n",
    "pose_goal_blue.position.z = 1.05037338074 # Height: + go down   / - go up\n",
    "pose_goal_blue.orientation.x = -0.036326659332\n",
    "pose_goal_blue.orientation.y = 1.650743319611\n",
    "pose_goal_blue.orientation.z = -0.0152281913027\n",
    "pose_goal_blue.orientation.w = 0.758275416978\n",
    "#pose_goal_blue"
   ]
  },
  {
   "cell_type": "code",
   "execution_count": 12,
   "metadata": {},
   "outputs": [],
   "source": [
    "# Plan - check on rviz\n",
    "group_blue.set_pose_target(pose_goal_blue)\n",
    "group_blue.plan()\n",
    "rospy.sleep(1)"
   ]
  },
  {
   "cell_type": "code",
   "execution_count": 13,
   "metadata": {},
   "outputs": [],
   "source": [
    "# Run\n",
    "group_blue.go(pose_goal_blue, wait=True)\n",
    "group_blue.stop()"
   ]
  },
  {
   "cell_type": "code",
   "execution_count": 7,
   "metadata": {},
   "outputs": [
    {
     "name": "stdout",
     "output_type": "stream",
     "text": [
      "Zeroing ft sensor\n",
      "success: False\n",
      "res: \"Done\"\n"
     ]
    }
   ],
   "source": [
    "# Zeroing the force torque sensor\n",
    "print('Zeroing ft sensor')\n",
    "rospy.wait_for_service('/red/robotiq_ft_sensor_acc')\n",
    "zero_sensor = rospy.ServiceProxy('/red/robotiq_ft_sensor_acc',sensor_accessor)\n",
    "print(zero_sensor(8,'SET ZRO'))"
   ]
  },
  {
   "cell_type": "code",
   "execution_count": 13,
   "metadata": {},
   "outputs": [
    {
     "data": {
      "text/plain": [
       "x: -0.0400000214577\n",
       "y: 0.780000209808\n",
       "z: 0.0199966430664"
      ]
     },
     "execution_count": 13,
     "metadata": {},
     "output_type": "execute_result"
    }
   ],
   "source": [
    "# Get the force torque measurement\n",
    "topic = \"/red/robotiq_ft_wrench\"\n",
    "msg = rospy.wait_for_message(topic, WrenchStamped)\n",
    "forcez = msg.wrench.force\n",
    "forcez"
   ]
  },
  {
   "cell_type": "code",
   "execution_count": null,
   "metadata": {},
   "outputs": [],
   "source": []
  }
 ],
 "metadata": {
  "kernelspec": {
   "display_name": "Python 2",
   "language": "python",
   "name": "python2"
  },
  "language_info": {
   "codemirror_mode": {
    "name": "ipython",
    "version": 2
   },
   "file_extension": ".py",
   "mimetype": "text/x-python",
   "name": "python",
   "nbconvert_exporter": "python",
   "pygments_lexer": "ipython2",
   "version": "2.7.12"
  }
 },
 "nbformat": 4,
 "nbformat_minor": 2
}
